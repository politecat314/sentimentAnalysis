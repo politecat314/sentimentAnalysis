{
 "cells": [
  {
   "cell_type": "code",
   "execution_count": 20,
   "id": "ede19e9f",
   "metadata": {},
   "outputs": [],
   "source": [
    "import json\n",
    "from tabulate import tabulate\n",
    "\n",
    "company_names = ['CLE','DHL','GDEX','J&T','PL']\n",
    "\n",
    "# because company names are not consistent in problem 1 and problem 2\n",
    "company_names_dict = {'DHL':'DHL','Pos Laju':'PL',\n",
    "                      'City-link Express':'CLE','GDEX':'GDEX','J&T':'J&T'} "
   ]
  },
  {
   "cell_type": "markdown",
   "id": "ddbda6c6",
   "metadata": {},
   "source": [
    "## Import sentiment analysis output\n",
    "Here, larger values are better because they represent a greater positive sentiment"
   ]
  },
  {
   "cell_type": "code",
   "execution_count": 35,
   "id": "33549ed6",
   "metadata": {},
   "outputs": [
    {
     "name": "stdout",
     "output_type": "stream",
     "text": [
      "{'DHL': 122, 'PL': 64, 'GDEX': 61, 'J&T': 40, 'CLE': 38}\n"
     ]
    }
   ],
   "source": [
    "f = open('sentiment_output.json',)\n",
    "\n",
    "sentiment = json.load(f)\n",
    "\n",
    "f.close()\n",
    "\n",
    "sentiment = dict(sorted(sentiment.items(), key=lambda item: item[1], reverse=True)) # sort the dicionary based on values\n",
    "print(sentiment)"
   ]
  },
  {
   "cell_type": "markdown",
   "id": "f3270d67",
   "metadata": {},
   "source": [
    "## Import distnace data for 3 customers\n",
    "Here, smaller values are better"
   ]
  },
  {
   "cell_type": "code",
   "execution_count": 12,
   "id": "5997155e",
   "metadata": {},
   "outputs": [
    {
     "name": "stdout",
     "output_type": "stream",
     "text": [
      "[{'DHL': 53944, 'GDEX': 61078, 'PL': 63230, 'CLE': 99022, 'J&T': 124942}, {'DHL': 47523, 'PL': 56006, 'CLE': 70249, 'GDEX': 77009, 'J&T': 105959}, {'J&T': 52392, 'PL': 54168, 'GDEX': 72422, 'DHL': 83505, 'CLE': 111776}]\n"
     ]
    }
   ],
   "source": [
    "path = 'Problem 1 output/'\n",
    "filenames = ['Customer 1.json','Customer 2.hson','']\n",
    "distanceList = [] # distance for each customer with all the companies\n",
    "\n",
    "for customer_num in range(1, 4):\n",
    "    f = open(path+f'Customer {customer_num}.json')\n",
    "    \n",
    "    output = json.load(f)\n",
    "    \n",
    "    temp_dict = {}\n",
    "    \n",
    "    # dictoinary is of the form {company:distance}\n",
    "    # index in the distanceList represents nth customer\n",
    "    for dictionary in output['courierRanking']:\n",
    "        \n",
    "        temp_dict[company_names_dict[dictionary['name']]] = dictionary['total_distance']\n",
    "    \n",
    "    distanceList.append(temp_dict)\n",
    "    f.close()\n",
    "\n",
    "print(distanceList)"
   ]
  },
  {
   "cell_type": "markdown",
   "id": "51458971",
   "metadata": {},
   "source": [
    "## Combining distance and sentiment analysis info to choose the best company\n",
    "Distance shortest is best. Sentiment greatest is best.<br>\n",
    "We want to give 50-50 importance to distance and sentiment. This percentage can be changed<br><br>\n",
    "\n",
    "**Formula**<br>\n",
    "score = -(0.5 x distance) +(0.5 x sentiment)<br>\n",
    "Larger score is better"
   ]
  },
  {
   "cell_type": "code",
   "execution_count": 48,
   "id": "88ffa032",
   "metadata": {},
   "outputs": [
    {
     "name": "stdout",
     "output_type": "stream",
     "text": [
      "{'DHL': 34.028, 'PL': 0.38500000000000156, 'GDEX': -0.03900000000000148, 'CLE': -30.511000000000003, 'J&T': -42.471}\n",
      "\n",
      "{'DHL': 37.2385, 'PL': 3.997, 'GDEX': -8.0045, 'CLE': -16.124499999999998, 'J&T': -32.9795}\n",
      "\n",
      "{'DHL': 19.247500000000002, 'PL': 4.916, 'GDEX': -5.7109999999999985, 'J&T': -6.1960000000000015, 'CLE': -36.888}\n",
      "\n"
     ]
    }
   ],
   "source": [
    "# as this number reaches 1, more importance is given to distance\n",
    "# as this number reaches 0, more importance is given to sentiment\n",
    "probability = 0.5\n",
    "\n",
    "score = [] # score is of the same format as distanceList (see the cell above)\n",
    "\n",
    "for customer in distanceList:\n",
    "    \n",
    "    temp_dict = {}\n",
    "    for company in company_names:\n",
    "#         temp_dict[company] = -probability*customer[company] + (1-probability)*sentiment[company]\n",
    "\n",
    "        # distance values scaled by 1000\n",
    "        temp_dict[company] = -probability*(customer[company]/1000) + (1-probability)*sentiment[company] \n",
    "    \n",
    "    temp_dict = dict(sorted(temp_dict.items(), key=lambda item: item[1], reverse=True))\n",
    "    print(temp_dict)\n",
    "    print()\n",
    "    score.append(temp_dict)"
   ]
  },
  {
   "cell_type": "markdown",
   "id": "0c51202c",
   "metadata": {},
   "source": [
    "## Best company for each customer\n",
    "Companies are sorted in the score dictionary from best to worst. Rank 1 is best company for customer. Rank 5 is worst"
   ]
  },
  {
   "cell_type": "code",
   "execution_count": 49,
   "id": "037a7fe7",
   "metadata": {},
   "outputs": [
    {
     "name": "stdout",
     "output_type": "stream",
     "text": [
      "----------  ---  --  ----  ---  ---\n",
      "Rank        1    2   3     4    5\n",
      "Customer 1  DHL  PL  GDEX  CLE  J&T\n",
      "Customer 2  DHL  PL  GDEX  CLE  J&T\n",
      "Customer 3  DHL  PL  GDEX  J&T  CLE\n",
      "----------  ---  --  ----  ---  ---\n"
     ]
    }
   ],
   "source": [
    "table = [['Rank','1','2','3','4','5']]\n",
    "\n",
    "for i, j in enumerate(score):\n",
    "    table.append([f'Customer {i+1}']+list(score[i].keys()))\n",
    "    \n",
    "print(tabulate(table))"
   ]
  }
 ],
 "metadata": {
  "kernelspec": {
   "display_name": "Python 3",
   "language": "python",
   "name": "python3"
  },
  "language_info": {
   "codemirror_mode": {
    "name": "ipython",
    "version": 3
   },
   "file_extension": ".py",
   "mimetype": "text/x-python",
   "name": "python",
   "nbconvert_exporter": "python",
   "pygments_lexer": "ipython3",
   "version": "3.7.6"
  }
 },
 "nbformat": 4,
 "nbformat_minor": 5
}
